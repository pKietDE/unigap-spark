{
 "cells": [
  {
   "cell_type": "code",
   "execution_count": 12,
   "metadata": {},
   "outputs": [
    {
     "name": "stderr",
     "output_type": "stream",
     "text": [
      "[Stage 29:==============>                                           (1 + 3) / 4]\r"
     ]
    },
    {
     "name": "stdout",
     "output_type": "stream",
     "text": [
      "root\n",
      " |-- DEST: string (nullable = true)\n",
      " |-- DEST_CITY_NAME: string (nullable = true)\n",
      " |-- FL_DATE: string (nullable = true)\n",
      " |-- OP_CARRIER: string (nullable = true)\n",
      " |-- OP_CARRIER_FL_NUM: long (nullable = true)\n",
      " |-- ORIGIN: string (nullable = true)\n",
      " |-- ORIGIN_CITY_NAME: string (nullable = true)\n",
      " |-- id: long (nullable = true)\n",
      "\n",
      "root\n",
      " |-- ARR_TIME: long (nullable = true)\n",
      " |-- CANCELLED: long (nullable = true)\n",
      " |-- CRS_ARR_TIME: long (nullable = true)\n",
      " |-- CRS_DEP_TIME: long (nullable = true)\n",
      " |-- DEP_TIME: long (nullable = true)\n",
      " |-- DISTANCE: long (nullable = true)\n",
      " |-- TAXI_IN: long (nullable = true)\n",
      " |-- WHEELS_ON: long (nullable = true)\n",
      " |-- id: long (nullable = true)\n",
      "\n"
     ]
    },
    {
     "name": "stderr",
     "output_type": "stream",
     "text": [
      "                                                                                \r"
     ]
    }
   ],
   "source": [
    "from pyspark.sql import SparkSession\n",
    "from pyspark.sql.functions import *\n",
    "\n",
    "# Khởi tạo SparkSession\n",
    "spark = SparkSession.builder.appName(\"05-dataframe-join\").master(\"local[*]\").getOrCreate()\n",
    "\n",
    "# Đọc dữ liệu từ các tệp JSON\n",
    "df1 = spark.read \\\n",
    "    .format(\"json\") \\\n",
    "    .option(\"inferSchema\", \"true\") \\\n",
    "    .load(\"data/d1/*\")\n",
    "\n",
    "df2 = spark.read \\\n",
    "    .format(\"json\") \\\n",
    "    .option(\"inferSchema\", \"true\") \\\n",
    "    .load(\"data/d2/*\")\n",
    "\n",
    "# In ra schema của cả hai DataFrame\n",
    "df1.printSchema()\n",
    "df2.printSchema()\n"
   ]
  },
  {
   "cell_type": "code",
   "execution_count": 3,
   "metadata": {},
   "outputs": [
    {
     "name": "stdout",
     "output_type": "stream",
     "text": [
      "+----+--------------+--------+----------+-----------------+------+----------------+---+\n",
      "|DEST|DEST_CITY_NAME| FL_DATE|OP_CARRIER|OP_CARRIER_FL_NUM|ORIGIN|ORIGIN_CITY_NAME| id|\n",
      "+----+--------------+--------+----------+-----------------+------+----------------+---+\n",
      "| ATL|   Atlanta, GA|1/1/2000|        DL|             1451|   BOS|      Boston, MA|  0|\n",
      "+----+--------------+--------+----------+-----------------+------+----------------+---+\n",
      "only showing top 1 row\n",
      "\n"
     ]
    }
   ],
   "source": [
    "df1.show(1)"
   ]
  },
  {
   "cell_type": "code",
   "execution_count": 16,
   "metadata": {},
   "outputs": [
    {
     "name": "stderr",
     "output_type": "stream",
     "text": [
      "[Stage 39:=============================>                            (2 + 2) / 4]\r"
     ]
    },
    {
     "name": "stdout",
     "output_type": "stream",
     "text": [
      "+----+-------+--------------------+\n",
      "|DEST|FL_YEAR|NUM_CANCELLED_FLIGHT|\n",
      "+----+-------+--------------------+\n",
      "| ABE|   2000|                   5|\n",
      "| ABQ|   2000|                  15|\n",
      "| AGS|   2000|                   1|\n",
      "| ALB|   2000|                  12|\n",
      "| AMA|   2000|                   5|\n",
      "| ANC|   2000|                  36|\n",
      "| ATL|   2000|                 239|\n",
      "| AUS|   2000|                  30|\n",
      "| AVL|   2000|                   3|\n",
      "| AVP|   2000|                   2|\n",
      "| AZO|   2000|                   1|\n",
      "| BDL|   2000|                  18|\n",
      "| BET|   2000|                   2|\n",
      "| BHM|   2000|                   6|\n",
      "| BIL|   2000|                   3|\n",
      "| BIS|   2000|                   2|\n",
      "| BNA|   2000|                  15|\n",
      "| BOI|   2000|                   9|\n",
      "| BOS|   2000|                 156|\n",
      "| BRW|   2000|                   3|\n",
      "+----+-------+--------------------+\n",
      "only showing top 20 rows\n",
      "\n"
     ]
    },
    {
     "name": "stderr",
     "output_type": "stream",
     "text": [
      "                                                                                \r"
     ]
    }
   ],
   "source": [
    "df1.join(df2, on = \"id\", how = \"left\").filter((col(\"CANCELLED\") == 1) & (year(to_date(\"FL_DATE\", \"d/M/yyyy\")).isNotNull())) \\\n",
    "    .groupBy(\"DEST\",year(to_date(\"FL_DATE\", \"d/M/yyyy\")).alias(\"FL_YEAR\")).count() \\\n",
    "    .withColumnRenamed(\"count\",\"NUM_CANCELLED_FLIGHT\") \\\n",
    "    .orderBy(col(\"DEST\"),col(\"FL_YEAR\")) \\\n",
    "    .show()"
   ]
  },
  {
   "cell_type": "code",
   "execution_count": null,
   "metadata": {},
   "outputs": [],
   "source": []
  }
 ],
 "metadata": {
  "kernelspec": {
   "display_name": ".sparkvenv",
   "language": "python",
   "name": "python3"
  },
  "language_info": {
   "codemirror_mode": {
    "name": "ipython",
    "version": 3
   },
   "file_extension": ".py",
   "mimetype": "text/x-python",
   "name": "python",
   "nbconvert_exporter": "python",
   "pygments_lexer": "ipython3",
   "version": "3.12.3"
  }
 },
 "nbformat": 4,
 "nbformat_minor": 2
}
